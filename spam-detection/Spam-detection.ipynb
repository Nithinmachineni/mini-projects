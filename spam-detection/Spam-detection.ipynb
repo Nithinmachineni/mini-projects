{
 "cells": [
  {
   "cell_type": "code",
   "execution_count": 11,
   "id": "a0b3e907-877d-4672-8bd2-cdd71c493439",
   "metadata": {},
   "outputs": [
    {
     "name": "stdout",
     "output_type": "stream",
     "text": [
      "Accuracy: 0.97847533632287\n",
      "\n",
      "Classification Report:\n",
      "               precision    recall  f1-score   support\n",
      "\n",
      "           0       0.98      1.00      0.99       966\n",
      "           1       1.00      0.84      0.91       149\n",
      "\n",
      "    accuracy                           0.98      1115\n",
      "   macro avg       0.99      0.92      0.95      1115\n",
      "weighted avg       0.98      0.98      0.98      1115\n",
      "\n",
      "Prediction: Spam\n"
     ]
    }
   ],
   "source": [
    "# No installation needed for these in Colab\n",
    "import pandas as pd\n",
    "import numpy as np\n",
    "from sklearn.model_selection import train_test_split\n",
    "from sklearn.feature_extraction.text import TfidfVectorizer\n",
    "from sklearn.naive_bayes import MultinomialNB\n",
    "from sklearn.metrics import accuracy_score, classification_report\n",
    "\n",
    "# Load the dataset\n",
    "url = \"https://raw.githubusercontent.com/justmarkham/pycon-2016-tutorial/master/data/sms.tsv\"\n",
    "df = pd.read_csv(url, sep='\\t', header=None, names=['label', 'message'])\n",
    "# Preview the data\n",
    "df.head()\n",
    "\n",
    "\n",
    "# Map labels\n",
    "df['label'] = df['label'].map({'ham': 0, 'spam': 1})\n",
    "\n",
    "# Check nulls\n",
    "df.isnull().sum()\n",
    "\n",
    "X = df['message']\n",
    "y = df['label']\n",
    "\n",
    "X_train, X_test, y_train, y_test = train_test_split(X, y, test_size=0.2, random_state=42)\n",
    "\n",
    "\n",
    "vectorizer = TfidfVectorizer(stop_words='english', lowercase=True)\n",
    "\n",
    "X_train_vec = vectorizer.fit_transform(X_train)\n",
    "X_test_vec = vectorizer.transform(X_test)\n",
    "\n",
    "\n",
    "model = MultinomialNB()\n",
    "model.fit(X_train_vec, y_train)\n",
    "\n",
    "\n",
    "y_pred = model.predict(X_test_vec)\n",
    "\n",
    "print(\"Accuracy:\", accuracy_score(y_test, y_pred))\n",
    "print(\"\\nClassification Report:\\n\", classification_report(y_test, y_pred))\n",
    "\n",
    "\n",
    "your_message = [\"Congratulations! You've won a $1000 gift card. Click now to claim.\"]\n",
    "your_message_vec = vectorizer.transform(your_message)\n",
    "\n",
    "prediction = model.predict(your_message_vec)\n",
    "print(\"Prediction:\", \"Spam\" if prediction[0] == 1 else \"Ham (Not Spam)\")\n"
   ]
  },
  {
   "cell_type": "code",
   "execution_count": null,
   "id": "fdab9d5b-4e07-4317-93a8-add66be47acc",
   "metadata": {},
   "outputs": [],
   "source": []
  },
  {
   "cell_type": "code",
   "execution_count": 12,
   "id": "79ce6141-b289-4df7-a05b-e4e77fbf2470",
   "metadata": {},
   "outputs": [
    {
     "name": "stdout",
     "output_type": "stream",
     "text": [
      "Enter a message to classify as Spam or Ham.\n",
      "Type 'exit' to stop.\n"
     ]
    },
    {
     "name": "stdin",
     "output_type": "stream",
     "text": [
      "\n",
      "Your message:  hello good morning\n"
     ]
    },
    {
     "name": "stdout",
     "output_type": "stream",
     "text": [
      "Prediction: Ham\n"
     ]
    },
    {
     "name": "stdin",
     "output_type": "stream",
     "text": [
      "\n",
      "Your message:  free entry into our contesent!win abrand new i phone\n"
     ]
    },
    {
     "name": "stdout",
     "output_type": "stream",
     "text": [
      "Prediction: Spam\n"
     ]
    },
    {
     "name": "stdin",
     "output_type": "stream",
     "text": [
      "\n",
      "Your message:  hey are we still metting for a coffe at 5\n"
     ]
    },
    {
     "name": "stdout",
     "output_type": "stream",
     "text": [
      "Prediction: Ham\n"
     ]
    },
    {
     "name": "stdin",
     "output_type": "stream",
     "text": [
      "\n",
      "Your message:  wineer claim  your $1000 gift card\n"
     ]
    },
    {
     "name": "stdout",
     "output_type": "stream",
     "text": [
      "Prediction: Spam\n"
     ]
    },
    {
     "name": "stdin",
     "output_type": "stream",
     "text": [
      "\n",
      "Your message:  exit\n"
     ]
    },
    {
     "name": "stdout",
     "output_type": "stream",
     "text": [
      "Exiting. Thanks for testing!\n"
     ]
    }
   ],
   "source": [
    "print(\"Enter a message to classify as Spam or Ham.\")\n",
    "print(\"Type 'exit' to stop.\")\n",
    "\n",
    "while True:\n",
    "    msg = input(\"\\nYour message: \")\n",
    "    if msg.lower() == 'exit':\n",
    "        print(\"Exiting. Thanks for testing!\")\n",
    "        break\n",
    "    msg_vec = vectorizer.transform([msg])\n",
    "    prediction = model.predict(msg_vec)[0]\n",
    "    print(\"Prediction:\", \"Spam\" if prediction == 1 else \"Ham\")"
   ]
  }
 ],
 "metadata": {
  "kernelspec": {
   "display_name": "Python 3 (ipykernel)",
   "language": "python",
   "name": "python3"
  },
  "language_info": {
   "codemirror_mode": {
    "name": "ipython",
    "version": 3
   },
   "file_extension": ".py",
   "mimetype": "text/x-python",
   "name": "python",
   "nbconvert_exporter": "python",
   "pygments_lexer": "ipython3",
   "version": "3.13.3"
  }
 },
 "nbformat": 4,
 "nbformat_minor": 5
}
